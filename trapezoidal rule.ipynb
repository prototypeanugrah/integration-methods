import math
def f(x):
  return math.sin(x)

def solve(a,b,n):
  delx = float(b-a)/n
  h=1e-6
  i = 1 
  s = 0.5 * (f(a) + f(b))
  while(i<n):
    s = s + f(a + i*delx)
    i=i+1  
    
  return abs(delx*s)    
  
  " this code can work for any function(polynomial, trigonometric,etc."
