import math
def f(x):
  return math.sin(x)

def solve(a,b,n):
  h=float(b-a)/n
  i=0
  s=0
  while(i<n):
    s = s + f(a + (i + 0.5)*h)
    i=i+1
  
  return abs(h*s)
